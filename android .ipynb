{
 "cells": [
  {
   "cell_type": "code",
   "execution_count": 60,
   "id": "34763d56",
   "metadata": {},
   "outputs": [],
   "source": [
    "import subprocess\n",
    "\n",
    "# Specify the full path to the adb executable\n",
    "ADB_PATH = \"C:/android/platform-tools/adb\"\n",
    "\n",
    "def adb_command(command):\n",
    "    \"\"\"\n",
    "    Function to execute ADB commands and return the output.\n",
    "    \"\"\"\n",
    "    result = subprocess.run([ADB_PATH] + command.split(), capture_output=True, text=True)\n",
    "    return result.stdout.strip()\n",
    "\n",
    "def unlock_screen():\n",
    "    \"\"\"\n",
    "    Function to unlock the Android device screen.\n",
    "    \"\"\"\n",
    "    adb_command('shell input keyevent KEYCODE_WAKEUP')\n",
    "    adb_command('shell input swipe 300 1000 300 500')\n",
    "\n",
    "def launch_app(package_name):\n",
    "    \"\"\"\n",
    "    Function to launch an application on the Android device.\n",
    "    \"\"\"\n",
    "    adb_command(f'shell am start -n {package_name}')\n",
    "\n",
    "# Example usage:\n",
    "if __name__ == \"__main__\":\n",
    "    # Unlock the screen\n",
    "    unlock_screen()\n",
    "    \n",
    "    # Launch the Calculator app\n",
    "    launch_app(\"com.android.calculator2\")\n"
   ]
  },
  {
   "cell_type": "code",
   "execution_count": 55,
   "id": "d513054b",
   "metadata": {},
   "outputs": [],
   "source": [
    "import subprocess\n",
    "\n",
    "# Specify the full path to the adb executable\n",
    "ADB_PATH = \"C:/android/platform-tools/adb\"\n",
    "\n",
    "def adb_command(command):\n",
    "    \"\"\"\n",
    "    Function to execute ADB commands and return the output.\n",
    "    \"\"\"\n",
    "    result = subprocess.run([ADB_PATH] + command.split(), capture_output=True, text=True)\n",
    "    return result.stdout.strip()\n",
    "\n",
    "def unlock_screen():\n",
    "    \"\"\"\n",
    "    Function to unlock the Android device screen.\n",
    "    \"\"\"\n",
    "    adb_command('shell input keyevent KEYCODE_WAKEUP')\n",
    "    adb_command('shell input swipe 300 1000 300 500')\n",
    "\n",
    "def launch_phone_app():\n",
    "    \"\"\"\n",
    "    Function to launch the Phone app on the Android device.\n",
    "    \"\"\"\n",
    "    adb_command('shell am start -a android.intent.action.DIAL')\n",
    "\n",
    "# Example usage:\n",
    "if __name__ == \"__main__\":\n",
    "    # Unlock the screen\n",
    "    unlock_screen()\n",
    "    \n",
    "    # Launch the Phone app\n",
    "    launch_phone_app()\n"
   ]
  },
  {
   "cell_type": "code",
   "execution_count": 56,
   "id": "20bcb53e",
   "metadata": {},
   "outputs": [],
   "source": [
    "import subprocess\n",
    "\n",
    "# Specify the full path to the adb executable\n",
    "ADB_PATH = \"C:/android/platform-tools/adb\"\n",
    "\n",
    "def adb_command(command):\n",
    "    \"\"\"\n",
    "    Function to execute ADB commands and return the output.\n",
    "    \"\"\"\n",
    "    result = subprocess.run([ADB_PATH] + command.split(), capture_output=True, text=True)\n",
    "    return result.stdout.strip()\n",
    "\n",
    "def unlock_screen():\n",
    "    \"\"\"\n",
    "    Function to unlock the Android device screen.\n",
    "    \"\"\"\n",
    "    adb_command('shell input keyevent KEYCODE_WAKEUP')\n",
    "    adb_command('shell input swipe 300 1000 300 500')\n",
    "\n",
    "def launch_youtube_app():\n",
    "    \"\"\"\n",
    "    Function to launch the YouTube app on the Android device.\n",
    "    \"\"\"\n",
    "    adb_command('shell monkey -p com.google.android.youtube -c android.intent.category.LAUNCHER 1')\n",
    "\n",
    "# Example usage:\n",
    "if __name__ == \"__main__\":\n",
    "    # Unlock the screen\n",
    "    unlock_screen()\n",
    "    \n",
    "    # Launch the YouTube app\n",
    "    launch_youtube_app()\n"
   ]
  },
  {
   "cell_type": "code",
   "execution_count": 57,
   "id": "a26d9097",
   "metadata": {},
   "outputs": [],
   "source": [
    "import subprocess\n",
    "\n",
    "# Specify the full path to the adb executable\n",
    "ADB_PATH = \"C:/android/platform-tools/adb\"\n",
    "\n",
    "def adb_command(command):\n",
    "    \"\"\"\n",
    "    Function to execute ADB commands and return the output.\n",
    "    \"\"\"\n",
    "    result = subprocess.run([ADB_PATH] + command.split(), capture_output=True, text=True)\n",
    "    return result.stdout.strip()\n",
    "\n",
    "def unlock_screen():\n",
    "    \"\"\"\n",
    "    Function to unlock the Android device screen.\n",
    "    \"\"\"\n",
    "    adb_command('shell input keyevent KEYCODE_WAKEUP')\n",
    "    adb_command('shell input swipe 300 1000 300 500')\n",
    "\n",
    "def launch_settings_app():\n",
    "    \"\"\"\n",
    "    Function to launch the Settings app on the Android device.\n",
    "    \"\"\"\n",
    "    adb_command('shell am start -n com.android.settings/com.android.settings.Settings')\n",
    "\n",
    "# Example usage:\n",
    "if __name__ == \"__main__\":\n",
    "    # Unlock the screen\n",
    "    unlock_screen()\n",
    "    \n",
    "    # Launch the Settings app\n",
    "    launch_settings_app()\n"
   ]
  },
  {
   "cell_type": "code",
   "execution_count": 1,
   "id": "108f5c23",
   "metadata": {},
   "outputs": [],
   "source": [
    "import sentencepiece"
   ]
  },
  {
   "cell_type": "code",
   "execution_count": 9,
   "id": "a68961c0",
   "metadata": {},
   "outputs": [
    {
     "data": {
      "application/vnd.jupyter.widget-view+json": {
       "model_id": "dc8fdb9824b748b5875066ecb179f007",
       "version_major": 2,
       "version_minor": 0
      },
      "text/plain": [
       "model.safetensors:   0%|          | 0.00/548M [00:00<?, ?B/s]"
      ]
     },
     "metadata": {},
     "output_type": "display_data"
    },
    {
     "data": {
      "application/vnd.jupyter.widget-view+json": {
       "model_id": "3712860ca3524b3ea86151a962e37edb",
       "version_major": 2,
       "version_minor": 0
      },
      "text/plain": [
       "generation_config.json:   0%|          | 0.00/124 [00:00<?, ?B/s]"
      ]
     },
     "metadata": {},
     "output_type": "display_data"
    },
    {
     "data": {
      "application/vnd.jupyter.widget-view+json": {
       "model_id": "55bebf9a8e89422db66e269f6374f7a4",
       "version_major": 2,
       "version_minor": 0
      },
      "text/plain": [
       "tokenizer_config.json:   0%|          | 0.00/26.0 [00:00<?, ?B/s]"
      ]
     },
     "metadata": {},
     "output_type": "display_data"
    },
    {
     "data": {
      "application/vnd.jupyter.widget-view+json": {
       "model_id": "4d276a39e15841e69943c5b1416873fd",
       "version_major": 2,
       "version_minor": 0
      },
      "text/plain": [
       "vocab.json:   0%|          | 0.00/1.04M [00:00<?, ?B/s]"
      ]
     },
     "metadata": {},
     "output_type": "display_data"
    },
    {
     "data": {
      "application/vnd.jupyter.widget-view+json": {
       "model_id": "b8395091781d448da85561354b8387c2",
       "version_major": 2,
       "version_minor": 0
      },
      "text/plain": [
       "merges.txt:   0%|          | 0.00/456k [00:00<?, ?B/s]"
      ]
     },
     "metadata": {},
     "output_type": "display_data"
    },
    {
     "data": {
      "application/vnd.jupyter.widget-view+json": {
       "model_id": "c16909242d9745dea924ecc70d1fdb44",
       "version_major": 2,
       "version_minor": 0
      },
      "text/plain": [
       "tokenizer.json:   0%|          | 0.00/1.36M [00:00<?, ?B/s]"
      ]
     },
     "metadata": {},
     "output_type": "display_data"
    },
    {
     "name": "stdout",
     "output_type": "stream",
     "text": [
      "Generated response: How are you today?\n",
      "\n",
      "I'm a little bit older than you, but I'm still a little bit older than you. I'm still a little bit older than you. I'm still a little bit older than you. I'm still\n"
     ]
    }
   ],
   "source": [
    "from transformers import GPT2LMHeadModel, GPT2Tokenizer\n",
    "\n",
    "# Load GPT-2 model and tokenizer\n",
    "model_name = \"gpt2\"\n",
    "model = GPT2LMHeadModel.from_pretrained(model_name)\n",
    "tokenizer = GPT2Tokenizer.from_pretrained(model_name)\n",
    "\n"
   ]
  },
  {
   "cell_type": "code",
   "execution_count": 35,
   "id": "0072bbd3",
   "metadata": {},
   "outputs": [
    {
     "name": "stdout",
     "output_type": "stream",
     "text": [
      "Generated response: How to open android apps using python?\n",
      "\n",
      "Open the app and select the \"Open\" button.\n",
      "\n",
      "Select the \"Open\" button and click \"Open\".\n",
      "\n",
      "You should see a dialog box with the following text:\n",
      "\n",
      "Open\n"
     ]
    }
   ],
   "source": [
    "# Example input text\n",
    "input_text = \"How to open android apps using python?\"\n",
    "\n",
    "# Tokenize input text\n",
    "input_ids = tokenizer.encode(input_text, return_tensors=\"pt\")\n",
    "\n",
    "# Generate response\n",
    "output = model.generate(input_ids, max_length=50, num_return_sequences=1, pad_token_id=tokenizer.eos_token_id)\n",
    "\n",
    "# Decode and print generated text\n",
    "generated_text = tokenizer.decode(output[0], skip_special_tokens=True)\n",
    "print(\"Generated response:\", generated_text)\n"
   ]
  },
  {
   "cell_type": "code",
   "execution_count": 51,
   "id": "f0259124",
   "metadata": {
    "scrolled": true
   },
   "outputs": [
    {
     "name": "stderr",
     "output_type": "stream",
     "text": [
      "The attention mask and the pad token id were not set. As a consequence, you may observe unexpected behavior. Please pass your input's `attention_mask` to obtain reliable results.\n",
      "Setting `pad_token_id` to `eos_token_id`:50256 for open-end generation.\n"
     ]
    }
   ],
   "source": [
    "import subprocess\n",
    "import time\n",
    "import torch\n",
    "from transformers import GPT2Tokenizer, GPT2LMHeadModel\n",
    "\n",
    "\n",
    "def execute_adb_command(command):\n",
    "    \"\"\"Execute the specified ADB command.\"\"\"\n",
    "    result = subprocess.run([ADB_PATH] + command.split(), capture_output=True, text=True)\n",
    "    return result.stdout.strip()\n",
    "\n",
    "\n",
    "def open_gmail_app():\n",
    "    \"\"\"Open the Gmail application on the connected Android device.\"\"\"\n",
    "    execute_adb_command(\"adb shell am start -a android.intent.action.MAIN -n com.google.android.gm/.ConversationListActivityGmail\")\n",
    "\n",
    "def check_inbox_for_new_messages():\n",
    "    \"\"\"Navigate to the inbox and check for new messages in the Gmail application.\"\"\"\n",
    "    # Click on the Gmail app icon (replace x and y coordinates with actual values)\n",
    "    execute_adb_command(\"adb shell input tap x_coordinate y_coordinate\")\n",
    "    time.sleep(2)  # Wait for the app to open\n",
    "    \n",
    "    # Click on the menu icon to access the inbox (replace x and y coordinates with actual values)\n",
    "    execute_adb_command(\"adb shell input tap x_coordinate y_coordinate\")\n",
    "    time.sleep(2)  # Wait for the inbox to load\n",
    "    \n",
    "    # Scroll down to view new messages (optional)\n",
    "    execute_adb_command(\"adb shell input swipe x1 y1 x2 y2 duration_in_ms\")\n",
    "    time.sleep(2)  # Wait for messages to load\n",
    "\n",
    "def process_instructions(instructions):\n",
    "    \"\"\"Process natural language instructions using the LLM model.\"\"\"\n",
    "    # Tokenize the instructions\n",
    "    input_ids = tokenizer.encode(instructions, return_tensors=\"pt\")\n",
    "    \n",
    "    # Generate actions using the LLM model\n",
    "    with torch.no_grad():\n",
    "        outputs = model.generate(input_ids, max_length=100, num_return_sequences=1)\n",
    "    \n",
    "    # Decode the generated actions\n",
    "    actions = tokenizer.decode(outputs[0], skip_special_tokens=True)\n",
    "    \n",
    "    # Execute the generated actions\n",
    "    if \"open Gmail app\" in actions:\n",
    "        open_gmail_app()\n",
    "    elif \"check inbox for new messages\" in actions:\n",
    "        check_inbox_for_new_messages()\n",
    "\n",
    "if __name__ == \"__main__\":\n",
    "    # Placeholder for user instructions (replace with actual input from LLM model)\n",
    "    user_instructions = \"Please open the Gmail app and check the inbox for new messages.\"\n",
    "    \n",
    "    # Process user instructions using the LLM model\n",
    "    process_instructions(user_instructions)\n"
   ]
  },
  {
   "cell_type": "code",
   "execution_count": 22,
   "id": "d2eaf973",
   "metadata": {},
   "outputs": [],
   "source": [
    "generated_text='shell am start -n com.android.settings/com.android.settings.Settings'"
   ]
  },
  {
   "cell_type": "code",
   "execution_count": 29,
   "id": "38a27fad",
   "metadata": {},
   "outputs": [
    {
     "name": "stderr",
     "output_type": "stream",
     "text": [
      "The attention mask and the pad token id were not set. As a consequence, you may observe unexpected behavior. Please pass your input's `attention_mask` to obtain reliable results.\n",
      "Setting `pad_token_id` to `eos_token_id`:50256 for open-end generation.\n"
     ]
    }
   ],
   "source": [
    "import subprocess\n",
    "import torch\n",
    "from transformers import GPT2Tokenizer, GPT2LMHeadModel\n",
    "\n",
    "# Specify the full path to the adb executable\n",
    "ADB_PATH = \"C:/android/platform-tools/adb\"\n",
    "\n",
    "# Load pre-trained LLM model and tokenizer\n",
    "tokenizer = GPT2Tokenizer.from_pretrained(\"gpt2\")\n",
    "model = GPT2LMHeadModel.from_pretrained(\"gpt2\")\n",
    "\n",
    "def adb_command(command):\n",
    "    \"\"\"\n",
    "    Function to execute ADB commands and return the output.\n",
    "    \"\"\"\n",
    "    result = subprocess.run([ADB_PATH] + command.split(), capture_output=True, text=True)\n",
    "    return result.stdout.strip()\n",
    "\n",
    "def unlock_screen():\n",
    "    \"\"\"\n",
    "    Function to unlock the Android device screen.\n",
    "    \"\"\"\n",
    "    adb_command('shell input keyevent KEYCODE_WAKEUP')\n",
    "    adb_command('shell input swipe 300 1000 300 500')\n",
    "\n",
    "def launch_settings_app():\n",
    "    \"\"\"\n",
    "    Function to launch the Settings app on the Android device.\n",
    "    \"\"\"\n",
    "    adb_command('shell am start -n com.android.settings/com.android.settings.Settings')\n",
    "\n",
    "def process_instructions(instructions):\n",
    "    \"\"\"\n",
    "    Function to process natural language instructions using the LLM model.\n",
    "    \"\"\"\n",
    "    # Tokenize the instructions\n",
    "    input_ids = tokenizer.encode(instructions, return_tensors=\"pt\")\n",
    "    \n",
    "    # Generate actions using the LLM model\n",
    "    with torch.no_grad():\n",
    "        outputs = model.generate(input_ids, max_length=100, num_return_sequences=1)\n",
    "    \n",
    "    # Decode the generated actions\n",
    "    actions = tokenizer.decode(outputs[0], skip_special_tokens=True)\n",
    "    \n",
    "    # Execute the generated actions\n",
    "    if \"unlock screen\" in actions:\n",
    "        unlock_screen()\n",
    "    elif \"launch settings app\" in actions:\n",
    "        launch_settings_app()\n"
   ]
  },
  {
   "cell_type": "code",
   "execution_count": 48,
   "id": "5f30480a",
   "metadata": {},
   "outputs": [],
   "source": [
    "def process_instructions(instructions):\n",
    "    \"\"\"\n",
    "    Function to process natural language instructions using the LLM model.\n",
    "    \"\"\"\n",
    "    # Tokenize the instructions\n",
    "    input_ids = tokenizer.encode(instructions, return_tensors=\"pt\")\n",
    "    \n",
    "    # Generate actions using the LLM model\n",
    "    with torch.no_grad():\n",
    "        outputs = model.generate(input_ids, max_length=100, num_return_sequences=1)\n",
    "    \n",
    "    # Decode the generated actions\n",
    "    actions = tokenizer.decode(outputs[0], skip_special_tokens=True)\n",
    "    \n",
    "    print(\"Generated Actions:\", actions)  # Print generated actions for debugging\n",
    "    \n",
    "    # Extract and execute relevant commands\n",
    "    if \"unlock screen\" in actions:\n",
    "        print(\"Unlocking the screen...\")\n",
    "        unlock_screen()\n",
    "    if \"launch the Settings app\" in actions:\n",
    "        print(\"Launching the Settings app...\")\n",
    "        launch_settings_app()\n"
   ]
  },
  {
   "cell_type": "code",
   "execution_count": 49,
   "id": "6fd107ac",
   "metadata": {},
   "outputs": [
    {
     "name": "stderr",
     "output_type": "stream",
     "text": [
      "The attention mask and the pad token id were not set. As a consequence, you may observe unexpected behavior. Please pass your input's `attention_mask` to obtain reliable results.\n",
      "Setting `pad_token_id` to `eos_token_id`:50256 for open-end generation.\n"
     ]
    },
    {
     "name": "stdout",
     "output_type": "stream",
     "text": [
      "Generated Actions: Please unlock the screen and launch the Settings app.\n",
      "\n",
      "You can also use the Settings app to change the color of the screen.\n",
      "\n",
      "You can also use the Settings app to change the color of the screen. You can also use the Settings app to change the color of the screen. You can also use the Settings app to change the color of the screen. You can also use the Settings app to change the color of the screen. You can also use the Settings app to change the color\n",
      "Launching the Settings app...\n"
     ]
    }
   ],
   "source": [
    "\n",
    "# Example usage:\n",
    "if __name__ == \"__main__\":\n",
    "    # Placeholder for user instructions (replace with actual input from LLM model)\n",
    "    user_instructions = \"Please unlock the screen and launch the Settings app.\"\n",
    "    \n",
    "    # Process user instructions using the LLM model\n",
    "    process_instructions(user_instructions)\n"
   ]
  },
  {
   "cell_type": "code",
   "execution_count": 58,
   "id": "7b49c54f",
   "metadata": {},
   "outputs": [
    {
     "name": "stderr",
     "output_type": "stream",
     "text": [
      "The attention mask and the pad token id were not set. As a consequence, you may observe unexpected behavior. Please pass your input's `attention_mask` to obtain reliable results.\n",
      "Setting `pad_token_id` to `eos_token_id`:50256 for open-end generation.\n"
     ]
    },
    {
     "name": "stdout",
     "output_type": "stream",
     "text": [
      "Generated Instructions: Please unlock the screen and launch the Settings app.\n",
      "\n",
      "You can also use the Settings app to change the color of the screen.\n",
      "\n",
      "You can also use the Settings app to change the color of the screen. You can also use the Settings app to change the color of the screen. You can also use the Settings app to change the color of the screen. You can also use the Settings app to change the color of the screen. You can also use the Settings app to change the color\n"
     ]
    }
   ],
   "source": [
    "def generate_instructions(prompt):\n",
    "    input_ids = tokenizer.encode(prompt, return_tensors=\"pt\")\n",
    "    output = model.generate(input_ids, max_length=100, num_return_sequences=1)\n",
    "    return tokenizer.decode(output[0], skip_special_tokens=True)\n",
    "\n",
    "# Example usage:\n",
    "prompt = \"Please unlock the screen and launch the Settings app.\"\n",
    "instructions = generate_instructions(prompt)\n",
    "print(\"Generated Instructions:\", instructions)"
   ]
  },
  {
   "cell_type": "code",
   "execution_count": 62,
   "id": "ba6b4cc5",
   "metadata": {},
   "outputs": [
    {
     "name": "stdout",
     "output_type": "stream",
     "text": [
      "Please unlock the screen and launch the Settings app.\n",
      "Open the Gmail app and check for inbox messages.\n"
     ]
    }
   ],
   "source": [
    "import subprocess\n",
    "\n",
    "# ADB path\n",
    "\n",
    "def adb_command(command):\n",
    "    \"\"\"\n",
    "    Function to execute ADB commands and return the output.\n",
    "    \"\"\"\n",
    "    result = subprocess.run([ADB_PATH] + command.split(), capture_output=True, text=True)\n",
    "    return result.stdout.strip()\n",
    "\n",
    "def unlock_screen():\n",
    "    \"\"\"\n",
    "    Function to unlock the Android device screen.\n",
    "    \"\"\"\n",
    "    adb_command('shell input keyevent KEYCODE_WAKEUP')\n",
    "    adb_command('shell input swipe 300 1000 300 500')\n",
    "\n",
    "def launch_app(package_name, activity_name):\n",
    "    \"\"\"\n",
    "    Function to launch an app using ADB.\n",
    "    \"\"\"\n",
    "    adb_command(f'shell am start -n {package_name}/{activity_name}')\n",
    "\n",
    "def perform_actions(actions):\n",
    "    \"\"\"\n",
    "    Function to perform a sequence of actions within an app.\n",
    "    \"\"\"\n",
    "    for action in actions:\n",
    "        # Perform action (example: tap at coordinates)\n",
    "        adb_command(f'shell input tap {action[\"x\"]} {action[\"y\"]}')\n",
    "\n",
    "# Example prompts and actions\n",
    "prompts_actions = [\n",
    "    {\n",
    "        \"prompt\": \"Please unlock the screen and launch the Settings app.\",\n",
    "        \"actions\": [\n",
    "            {\"action\": \"unlock_screen\"},\n",
    "            {\"action\": \"launch_app\", \"package_name\": \"com.android.settings\", \"activity_name\": \"com.android.settings.Settings\"}\n",
    "        ]\n",
    "    },\n",
    "    {\n",
    "        \"prompt\": \"Open the Gmail app and check for inbox messages.\",\n",
    "        \"actions\": [\n",
    "            {\"action\": \"launch_app\", \"package_name\": \"com.google.android.gm\", \"activity_name\": \"com.google.android.gm.ConversationListActivity\"},\n",
    "            {\"action\": \"perform_actions\", \"actions\": [\n",
    "                {\"action\": \"tap\", \"x\": 500, \"y\": 300},  # Tap on inbox\n",
    "                {\"action\": \"tap\", \"x\": 200, \"y\": 600}   # Tap to check for messages\n",
    "            ]}\n",
    "        ]\n",
    "    }\n",
    "]\n",
    "\n",
    "# Execute prompts and actions\n",
    "for item in prompts_actions:\n",
    "    print(item[\"prompt\"])\n",
    "    for action in item[\"actions\"]:\n",
    "        if action[\"action\"] == \"unlock_screen\":\n",
    "            unlock_screen()\n",
    "        elif action[\"action\"] == \"launch_app\":\n",
    "            launch_app(action[\"package_name\"], action[\"activity_name\"])\n",
    "        elif action[\"action\"] == \"perform_actions\":\n",
    "            perform_actions(action[\"actions\"])\n"
   ]
  },
  {
   "cell_type": "code",
   "execution_count": null,
   "id": "e6ee33fc",
   "metadata": {},
   "outputs": [],
   "source": []
  }
 ],
 "metadata": {
  "kernelspec": {
   "display_name": "Python 3 (ipykernel)",
   "language": "python",
   "name": "python3"
  },
  "language_info": {
   "codemirror_mode": {
    "name": "ipython",
    "version": 3
   },
   "file_extension": ".py",
   "mimetype": "text/x-python",
   "name": "python",
   "nbconvert_exporter": "python",
   "pygments_lexer": "ipython3",
   "version": "3.9.13"
  }
 },
 "nbformat": 4,
 "nbformat_minor": 5
}
