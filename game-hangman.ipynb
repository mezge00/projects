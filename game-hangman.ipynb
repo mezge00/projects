{
 "cells": [
  {
   "cell_type": "code",
   "execution_count": 5,
   "metadata": {
    "_cell_guid": "b1076dfc-b9ad-4769-8c92-a6c4dae69d19",
    "_uuid": "8f2839f25d086af736a60e9eeb907d3b93b6e0e5",
    "execution": {
     "iopub.execute_input": "2024-02-17T13:18:49.330726Z",
     "iopub.status.busy": "2024-02-17T13:18:49.330327Z",
     "iopub.status.idle": "2024-02-17T13:18:49.347670Z",
     "shell.execute_reply": "2024-02-17T13:18:49.346548Z",
     "shell.execute_reply.started": "2024-02-17T13:18:49.330698Z"
    }
   },
   "outputs": [],
   "source": [
    "import random\n",
    "\n",
    "class HangmanSolver:\n",
    "    def __init__(self, dictionary_file):\n",
    "        self.dictionary = self.load_dictionary(dictionary_file)\n",
    "        self.word_length = 0\n",
    "        self.remaining_words = []\n",
    "        self.guessed_letters = set()\n",
    "\n",
    "    def load_dictionary(self, file_path):\n",
    "        with open(file_path, 'r') as file:\n",
    "            return [word.strip() for word in file.readlines()]\n",
    "\n",
    "    def filter_words(self, pattern):\n",
    "        return [word for word in self.remaining_words if all(c == '_' or c == l for c, l in zip(pattern, word))]\n",
    "\n",
    "    def update_remaining_words(self, pattern):\n",
    "        self.remaining_words = self.filter_words(pattern)\n",
    "\n",
    "    def guess_letter(self):\n",
    "        letter_frequency = {}\n",
    "        for word in self.remaining_words:\n",
    "            for letter in word:\n",
    "                if letter not in self.guessed_letters:\n",
    "                    letter_frequency[letter] = letter_frequency.get(letter, 0) + 1\n",
    "        if letter_frequency:\n",
    "            return max(letter_frequency, key=letter_frequency.get)\n",
    "        else:\n",
    "            return random.choice('abcdefghijklmnopqrstuvwxyz')\n",
    "\n",
    "    def play_game(self, word_length, max_attempts=10):\n",
    "        self.word_length = word_length\n",
    "        self.remaining_words = [word for word in self.dictionary if len(word) == word_length]\n",
    "        pattern = '_' * word_length\n",
    "        attempts = 0\n",
    "        while attempts < max_attempts:\n",
    "            guess = self.guess_letter()\n",
    "            print(\"Guessing:\", guess)\n",
    "            self.guessed_letters.add(guess)\n",
    "            if guess in pattern:\n",
    "                print(\"Already guessed!\")\n",
    "                continue\n",
    "            if guess in self.remaining_words[0]:\n",
    "                print(\"Correct guess!\")\n",
    "                pattern = ''.join(c if c == guess else p for c, p in zip(self.remaining_words[0], pattern))\n",
    "                if '_' not in pattern:\n",
    "                    print(\"Word guessed:\", pattern)\n",
    "                    break\n",
    "            else:\n",
    "                print(\"Incorrect guess!\")\n",
    "                attempts += 1\n",
    "            self.update_remaining_words(pattern)\n",
    "            print(\"Pattern:\", pattern)\n",
    "            print(\"Remaining words:\", len(self.remaining_words))\n",
    "        if '_' in pattern:\n",
    "            print(\"Out of attempts. Word:\", self.remaining_words[0])\n",
    "\n",
    "\n"
   ]
  },
  {
   "cell_type": "code",
   "execution_count": 4,
   "metadata": {
    "execution": {
     "iopub.execute_input": "2024-02-17T13:13:41.378493Z",
     "iopub.status.busy": "2024-02-17T13:13:41.378081Z",
     "iopub.status.idle": "2024-02-17T13:13:41.598989Z",
     "shell.execute_reply": "2024-02-17T13:13:41.597741Z",
     "shell.execute_reply.started": "2024-02-17T13:13:41.378464Z"
    }
   },
   "outputs": [
    {
     "name": "stdout",
     "output_type": "stream",
     "text": [
      "Guessing: e\n",
      "Correct guess!\n",
      "Pattern: ___e____\n",
      "Remaining words: 3091\n",
      "Guessing: r\n",
      "Incorrect guess!\n",
      "Pattern: ___e____\n",
      "Remaining words: 3091\n",
      "Guessing: n\n",
      "Correct guess!\n",
      "Pattern: ___e__n_\n",
      "Remaining words: 328\n",
      "Guessing: i\n",
      "Incorrect guess!\n",
      "Pattern: ___e__n_\n",
      "Remaining words: 328\n",
      "Guessing: g\n",
      "Incorrect guess!\n",
      "Pattern: ___e__n_\n",
      "Remaining words: 328\n",
      "Guessing: a\n",
      "Correct guess!\n",
      "Pattern: aa_e__n_\n",
      "Remaining words: 1\n",
      "Guessing: l\n",
      "Correct guess!\n",
      "Pattern: aale__n_\n",
      "Remaining words: 1\n",
      "Guessing: s\n",
      "Correct guess!\n",
      "Pattern: aales_n_\n",
      "Remaining words: 1\n",
      "Guessing: u\n",
      "Correct guess!\n",
      "Pattern: aalesun_\n",
      "Remaining words: 1\n",
      "Guessing: d\n",
      "Correct guess!\n",
      "Word guessed: aalesund\n"
     ]
    }
   ],
   "source": [
    "solver = HangmanSolver('/kaggle/input/words-250000-train/words_250000_train (1).txt')\n",
    "solver.play_game(word_length=8, max_attempts=15)"
   ]
  }
 ],
 "metadata": {
  "kaggle": {
   "accelerator": "none",
   "dataSources": [
    {
     "datasetId": 4454758,
     "sourceId": 7642982,
     "sourceType": "datasetVersion"
    }
   ],
   "dockerImageVersionId": 30646,
   "isGpuEnabled": false,
   "isInternetEnabled": true,
   "language": "python",
   "sourceType": "notebook"
  },
  "kernelspec": {
   "display_name": "Python 3 (ipykernel)",
   "language": "python",
   "name": "python3"
  },
  "language_info": {
   "codemirror_mode": {
    "name": "ipython",
    "version": 3
   },
   "file_extension": ".py",
   "mimetype": "text/x-python",
   "name": "python",
   "nbconvert_exporter": "python",
   "pygments_lexer": "ipython3",
   "version": "3.9.13"
  }
 },
 "nbformat": 4,
 "nbformat_minor": 4
}
